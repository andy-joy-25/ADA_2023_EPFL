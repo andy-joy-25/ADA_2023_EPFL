{
 "cells": [
  {
   "cell_type": "markdown",
   "metadata": {},
   "source": [
    "# Data from the Web - ADA 2020 Tutorial\n",
    "\n",
    "#### What do you find in this Notebook?\n",
    "\n",
    "The purpose of the Notebook is to offer a **quick** overview on how to scrape a Web page. In details, we illustrate the two main libraries used for this purpose. Afterwords, we show how to retrieve data from the Web."
   ]
  },
  {
   "cell_type": "markdown",
   "metadata": {},
   "source": [
    "## Web scraping libraries"
   ]
  },
  {
   "cell_type": "markdown",
   "metadata": {},
   "source": [
    "To fetch data from the Web with Python, you need to get use to two essential libraries:\n",
    "\n",
    " * [`Requests (HTTP)`](https://requests.kennethreitz.org/en/master/): get the `html` page to parse.\n",
    "\n",
    " * [`Beautiful Soup (HTML Parsing)`](https://www.crummy.com/software/BeautifulSoup/bs4/doc/): parse the `html` and extract data."
   ]
  },
  {
   "cell_type": "code",
   "execution_count": 1,
   "metadata": {
    "jupyter": {
     "outputs_hidden": true
    }
   },
   "outputs": [],
   "source": [
    "# Import libraries\n",
    "import requests\n",
    "from bs4 import BeautifulSoup"
   ]
  },
  {
   "cell_type": "markdown",
   "metadata": {},
   "source": [
    "If you have an error about missing modules, try this:\n",
    "```\n",
    "conda install requests\n",
    "conda install beautifulsoup4\n",
    "```"
   ]
  },
  {
   "cell_type": "markdown",
   "metadata": {},
   "source": [
    "### Make a `get` request\n",
    "\n",
    "The [GET method](https://en.wikipedia.org/wiki/Hypertext_Transfer_Protocol#Request_methods) retrieves information from the server.\n",
    "\n",
    "We start scraping this website: https://httpbin.org/ - HTTP Request & Response Service. The website offers some useful endpoints [1] to check the content of our request. Some of them provide an 'echo service' that reply with the request received.\n",
    "\n",
    "[1] Endpoint is a web address (URL) at which clients of a specific service can gain access to it. By referencing that URL, clients can get to operations provided by that service."
   ]
  },
  {
   "cell_type": "markdown",
   "metadata": {},
   "source": [
    "#### Example 1: Get request basics\n",
    "Here we show an example on how use a get request. In particular, you see that we can get different information about the response:\n",
    "\n",
    "* The status code [2] which tells us whether everything is fine and if the request worked\n",
    "* The headers\n",
    "* Body of the response (typically HTML for webpages or JSON/XML for web services)\n",
    "\n",
    "[2] Find the reminder of HTTP status codes [here](https://en.wikipedia.org/wiki/List_of_HTTP_status_codes). Some typical codes are: **200 OK** (standard response for successful HTTP requests) and **404 Not Found** (the requested resource could not be found but may be available in the future)."
   ]
  },
  {
   "cell_type": "markdown",
   "metadata": {},
   "source": [
    "**NOTE:** this is an echo service, what you see is what we sent to the server"
   ]
  },
  {
   "cell_type": "code",
   "execution_count": 2,
   "metadata": {},
   "outputs": [
    {
     "name": "stdout",
     "output_type": "stream",
     "text": [
      "Response status code: 200\n",
      "\n",
      "Response headers: {'Date': 'Fri, 12 Jan 2024 13:39:02 GMT', 'Content-Type': 'application/json', 'Content-Length': '32', 'Connection': 'keep-alive', 'Server': 'gunicorn/19.9.0', 'Access-Control-Allow-Origin': '*', 'Access-Control-Allow-Credentials': 'true'}\n",
      "\n",
      "Response body: {\n",
      "  \"origin\": \"84.73.233.185\"\n",
      "}\n",
      "\n"
     ]
    }
   ],
   "source": [
    "# Make the request\n",
    "r = requests.get('https://httpbin.org/ip') # /ip: Returns the requester's IP Address.\n",
    "\n",
    "print('Response status code: {0}\\n'.format(r.status_code))\n",
    "print('Response headers: {0}\\n'.format(r.headers))\n",
    "print('Response body: {0}'.format(r.text))"
   ]
  },
  {
   "cell_type": "markdown",
   "metadata": {},
   "source": [
    "#### Example 2: Parsing JSON string from the response\n",
    "\n",
    "If the body of the response is a JSON string, Requests offers a convenient way to parse the text and get a Python dictionary.\n",
    "\n",
    "Let's try to get the current time from here: http://worldtimeapi.org/api/timezone/Europe/Zurich – a simple web service that returns the local-time for a given timezone as either JSON (by default) or plain-text."
   ]
  },
  {
   "cell_type": "code",
   "execution_count": 3,
   "metadata": {},
   "outputs": [
    {
     "name": "stdout",
     "output_type": "stream",
     "text": [
      "Response body (parsed json):\n"
     ]
    },
    {
     "data": {
      "text/plain": [
       "{'abbreviation': 'CET',\n",
       " 'client_ip': '84.73.233.185',\n",
       " 'datetime': '2024-01-12T14:39:28.949548+01:00',\n",
       " 'day_of_week': 5,\n",
       " 'day_of_year': 12,\n",
       " 'dst': False,\n",
       " 'dst_from': None,\n",
       " 'dst_offset': 0,\n",
       " 'dst_until': None,\n",
       " 'raw_offset': 3600,\n",
       " 'timezone': 'Europe/Zurich',\n",
       " 'unixtime': 1705066768,\n",
       " 'utc_datetime': '2024-01-12T13:39:28.949548+00:00',\n",
       " 'utc_offset': '+01:00',\n",
       " 'week_number': 2}"
      ]
     },
     "execution_count": 3,
     "metadata": {},
     "output_type": "execute_result"
    }
   ],
   "source": [
    "r = requests.get('http://worldtimeapi.org/api/timezone/Europe/Zurich')\n",
    "\n",
    "print('Response body (parsed json):')\n",
    "r.json()"
   ]
  },
  {
   "cell_type": "markdown",
   "metadata": {},
   "source": [
    "#### Example 3: Including parameters into get request\n",
    "\n",
    "This time, the `url` has been slightly changed to include a parameter (key1).\n",
    "\n",
    "Remember that the with the GET method the parameters are part of the URL."
   ]
  },
  {
   "cell_type": "code",
   "execution_count": 4,
   "metadata": {},
   "outputs": [
    {
     "data": {
      "text/plain": [
       "{'args': {'key1': 'value1'},\n",
       " 'headers': {'Accept': '*/*',\n",
       "  'Accept-Encoding': 'gzip, deflate, br',\n",
       "  'Host': 'httpbin.org',\n",
       "  'User-Agent': 'python-requests/2.31.0',\n",
       "  'X-Amzn-Trace-Id': 'Root=1-65a1412a-7675b9932b27a8be5d1efd8f'},\n",
       " 'origin': '84.73.233.185',\n",
       " 'url': 'https://httpbin.org/get?key1=value1'}"
      ]
     },
     "execution_count": 4,
     "metadata": {},
     "output_type": "execute_result"
    }
   ],
   "source": [
    "r = requests.get('https://httpbin.org/get?key1=value1')\n",
    "r.json()"
   ]
  },
  {
   "cell_type": "markdown",
   "metadata": {},
   "source": [
    "### Make a `post` request\n",
    "The [POST method](https://en.wikipedia.org/wiki/POST_(HTTP)) requests that a web server accepts the data enclosed in the body of the request message, most likely for storing it.\n",
    "\n",
    "A POST request can have the paramenters in the body. Let's how to do this with Requests library:"
   ]
  },
  {
   "cell_type": "code",
   "execution_count": 5,
   "metadata": {},
   "outputs": [
    {
     "data": {
      "text/plain": [
       "{'args': {},\n",
       " 'data': '',\n",
       " 'files': {},\n",
       " 'form': {'key1': 'value1', 'key2': 'value2'},\n",
       " 'headers': {'Accept': '*/*',\n",
       "  'Accept-Encoding': 'gzip, deflate, br',\n",
       "  'Content-Length': '23',\n",
       "  'Content-Type': 'application/x-www-form-urlencoded',\n",
       "  'Host': 'httpbin.org',\n",
       "  'User-Agent': 'python-requests/2.31.0',\n",
       "  'X-Amzn-Trace-Id': 'Root=1-65a14154-799136a5624af4674f14749d'},\n",
       " 'json': None,\n",
       " 'origin': '84.73.233.185',\n",
       " 'url': 'https://httpbin.org/post'}"
      ]
     },
     "execution_count": 5,
     "metadata": {},
     "output_type": "execute_result"
    }
   ],
   "source": [
    "payload = {'key1': 'value1', 'key2': 'value2'}\n",
    "r = requests.post('https://httpbin.org/post', data=payload)\n",
    "r.json()"
   ]
  },
  {
   "cell_type": "markdown",
   "metadata": {},
   "source": [
    "### Make a request and extract the Page Title!"
   ]
  },
  {
   "cell_type": "markdown",
   "metadata": {},
   "source": [
    "* Send the request and get the `html`"
   ]
  },
  {
   "cell_type": "code",
   "execution_count": 6,
   "metadata": {},
   "outputs": [
    {
     "data": {
      "text/plain": [
       "'<!DOCTYPE html>\\n<html>\\n  <head>\\n  </head>\\n  <body>\\n      <h1>Herman Melville - Moby-Dick</h1>\\n\\n      <div>\\n        <p>\\n          Availing himself of the mild, summer-cool weather that now reigned in these latitudes, and in preparation for the peculiarly active pursuits shortly to be anticipated, Per'"
      ]
     },
     "execution_count": 6,
     "metadata": {},
     "output_type": "execute_result"
    }
   ],
   "source": [
    "# Send the request\n",
    "r = requests.get('https://httpbin.org/html')\n",
    "r.text[:300]"
   ]
  },
  {
   "cell_type": "markdown",
   "metadata": {},
   "source": [
    "* Thus, we start to use our beloved `BeautifulSoup` to parse the HTML and we get the header"
   ]
  },
  {
   "cell_type": "code",
   "execution_count": 7,
   "metadata": {},
   "outputs": [
    {
     "data": {
      "text/plain": [
       "<h1>Herman Melville - Moby-Dick</h1>"
      ]
     },
     "execution_count": 7,
     "metadata": {},
     "output_type": "execute_result"
    }
   ],
   "source": [
    "# Extract the header\n",
    "soup = BeautifulSoup(r.text, 'html.parser')\n",
    "soup.h1"
   ]
  },
  {
   "cell_type": "markdown",
   "metadata": {},
   "source": [
    "## Let's get interesting data - DBLP\n",
    "\n",
    "*DBLP is a computer science bibliography website. Starting in 1993 at the University of Trier, Germany, it grew from a small collection of HTML files and became an organization hosting a database and logic programming bibliography site. DBLP listed more than 3.66 million journal articles, conference papers, and other publications on computer science in July 2016, up from about 14,000 in 1995.*\n",
    "\n",
    "<div align=\"right\">https://en.wikipedia.org/wiki/DBLP</div> \n",
    "\n",
    "We want to check the distribution of the publications by year of the president of EPFL - Martin Vetterli.\n",
    "\n",
    "First of all, let's check the page with the data we need:"
   ]
  },
  {
   "cell_type": "code",
   "execution_count": 8,
   "metadata": {
    "jupyter": {
     "outputs_hidden": true
    }
   },
   "outputs": [],
   "source": [
    "URL = 'http://dblp.uni-trier.de/pers/hd/v/Vetterli:Martin'"
   ]
  },
  {
   "cell_type": "markdown",
   "metadata": {},
   "source": [
    "The page is public and accessible with a browser using a simple GET:"
   ]
  },
  {
   "cell_type": "code",
   "execution_count": 9,
   "metadata": {
    "jupyter": {
     "outputs_hidden": true
    }
   },
   "outputs": [],
   "source": [
    "r = requests.get(URL)\n",
    "page_body = r.text"
   ]
  },
  {
   "cell_type": "markdown",
   "metadata": {},
   "source": [
    "Now the page content is downloaded and we can inspect the body of the response:"
   ]
  },
  {
   "cell_type": "code",
   "execution_count": 10,
   "metadata": {},
   "outputs": [
    {
     "data": {
      "text/plain": [
       "'<!DOCTYPE html>\\n<html lang=\"en\">\\n<head><meta charset=\"UTF-8\"><title>dblp: Martin Vetterli</title><link rel=\"home\" href=\"https://dblp.org\"><link rel=\"search\" type=\"application/opensearchdescription+xml\" href=\"https://dblp.org/xml/osd.xml\" title=\"dblp search\"><link rel=\"apple-touch-icon\" type=\"image/p'"
      ]
     },
     "execution_count": 10,
     "metadata": {},
     "output_type": "execute_result"
    }
   ],
   "source": [
    "page_body[:300]"
   ]
  },
  {
   "cell_type": "markdown",
   "metadata": {},
   "source": [
    "It is pure HTML, and we need BeautifulSoup to parse the content. We can specify the parser we want to use html.parser, lxml, lxml-xml, xml, html5lib. Each of them has advantages and disadvantages - see [documentation](https://www.crummy.com/software/BeautifulSoup/bs4/doc/#installing-a-parser)."
   ]
  },
  {
   "cell_type": "code",
   "execution_count": 11,
   "metadata": {
    "jupyter": {
     "outputs_hidden": true
    }
   },
   "outputs": [],
   "source": [
    "soup = BeautifulSoup(page_body, 'html.parser')"
   ]
  },
  {
   "cell_type": "markdown",
   "metadata": {},
   "source": [
    "Now the page is parsed and we can read the data we need!\n",
    "\n",
    "For example, let's get the title! Are we in the right page?"
   ]
  },
  {
   "cell_type": "code",
   "execution_count": 12,
   "metadata": {},
   "outputs": [
    {
     "data": {
      "text/plain": [
       "<title>dblp: Martin Vetterli</title>"
      ]
     },
     "execution_count": 12,
     "metadata": {},
     "output_type": "execute_result"
    }
   ],
   "source": [
    "soup.title"
   ]
  },
  {
   "cell_type": "markdown",
   "metadata": {},
   "source": [
    "Yes! And we can get the clean text without HTML tags:"
   ]
  },
  {
   "cell_type": "code",
   "execution_count": 13,
   "metadata": {},
   "outputs": [
    {
     "data": {
      "text/plain": [
       "'dblp: Martin Vetterli'"
      ]
     },
     "execution_count": 13,
     "metadata": {},
     "output_type": "execute_result"
    }
   ],
   "source": [
    "soup.title.string"
   ]
  },
  {
   "cell_type": "markdown",
   "metadata": {},
   "source": [
    "A more complex query now! Let's find all the links in the page. \n",
    "\n",
    "In HTML a link is defined using the tag &lt;A&gt;, and BeautifulSoup offers an easy way to find them:"
   ]
  },
  {
   "cell_type": "code",
   "execution_count": 14,
   "metadata": {},
   "outputs": [
    {
     "name": "stdout",
     "output_type": "stream",
     "text": [
      "The webpage cointains 15791 links...\n"
     ]
    }
   ],
   "source": [
    "all_links = soup.find_all('a')\n",
    "print('The webpage cointains {0} links...'.format(len(all_links)))"
   ]
  },
  {
   "cell_type": "code",
   "execution_count": 15,
   "metadata": {},
   "outputs": [
    {
     "name": "stdout",
     "output_type": "stream",
     "text": [
      "... and 14827 of them point to external websites.\n"
     ]
    }
   ],
   "source": [
    "external_links = 0\n",
    "for link in all_links:\n",
    "    if(link.get('href') and not link.get('href').startswith('http://dblp.uni-trier.de/')\n",
    "       and link.get('href').startswith('http')):  # just an example, you may need more checks\n",
    "        external_links += 1\n",
    "\n",
    "print('... and {0} of them point to external websites.'.format(external_links))"
   ]
  },
  {
   "cell_type": "markdown",
   "metadata": {},
   "source": [
    "Let's move on. Now we want to extract the sections that contain the publication details.\n",
    "\n",
    "**The easiest way is to inspect the DOM of the web page with a browser.** Check with your browser how to isolate the portions of the page that represent publications. --- Task not in this Notebook ---\n",
    "\n",
    "Ok, each row is composed by a &lt;li&gt; tag and has a class called 'entry':"
   ]
  },
  {
   "cell_type": "code",
   "execution_count": 16,
   "metadata": {
    "jupyter": {
     "outputs_hidden": true
    }
   },
   "outputs": [],
   "source": [
    "publications_wrappers = soup.find_all('li', class_='entry')"
   ]
  },
  {
   "cell_type": "markdown",
   "metadata": {},
   "source": [
    "Let's check the number of rows:"
   ]
  },
  {
   "cell_type": "code",
   "execution_count": 17,
   "metadata": {},
   "outputs": [
    {
     "name": "stdout",
     "output_type": "stream",
     "text": [
      "Total number of items: 464\n"
     ]
    }
   ],
   "source": [
    "print('Total number of items: {0}'.format(len(publications_wrappers)))"
   ]
  },
  {
   "cell_type": "code",
   "execution_count": 18,
   "metadata": {},
   "outputs": [
    {
     "name": "stdout",
     "output_type": "stream",
     "text": [
      "LenslessPiCam: A Hardware and Software Platform for Lensless Computational Imaging with a Raspberry Pi.\n",
      "Blind as a Bat: Audible Echolocation on Small Robots.\n",
      "LenslessPiCam: A Hardware and Software Platform for Lensless Computational Imaging with a Raspberry Pi.\n",
      "Blind as a bat: audible echolocation on small robots.\n",
      "pyFFS: A Python Library for Fast Fourier Series Computation and Interpolation with GPU Acceleration.\n",
      "Three-Dimensional Cubic Barcodes.\n",
      "Asynchrony Increases Efficiency: Time Encoding of Videos and Low-Rank Signals.\n",
      "Lippmann Photography: A Signal Processing Perspective.\n",
      "Learning rich optical embeddings for privacy-preserving lensless image classification.\n",
      "LenslessPiCam: A Hardware and Software Platform for Lensless Computational Imaging with a Raspberry Pi.\n",
      "How Asynchronous Events Encode Video.\n",
      "Privacy-Enhancing Optical Embeddings for Lensless Classification.\n",
      "CPGD: Cadzow Plug-and-Play Gradient Descent for Generalised FRI.\n",
      "How Asynchronous Events Encode Video.\n",
      "Bound and Conquer: Improving Triangulation by Enforcing Consistency.\n",
      "Coordinate Difference Matrices.\n",
      "Kinetic Euclidean Distance Matrices.\n",
      "Sampling and Reconstruction of Bandlimited Signals With Multi-Channel Time Encoding.\n",
      "Shapes From Echoes: Uniqueness From Point-to-Plane Distance Matrices.\n",
      "Shape From Bandwidth: Central Projection Case.\n",
      "Encoding and Decoding Mixed Bandlimited Signals Using Spiking Integrate-and-Fire Neurons.\n",
      "Super Resolution Phase Retrieval for Sparse Signals.\n",
      "On the Move: Localization with Kinetic Euclidean Distance Matrices.\n",
      "Multi-channel Time Encoding for Improved Reconstruction of Bandlimited Signals.\n",
      "DeepWave: A Recurrent Neural-Network for Real-Time Acoustic Imaging.\n",
      "Shapes from Echoes: Uniqueness from Point-to-Plane Distance Matrices.\n",
      "Learning neural connectivity from firing activity: efficient algorithms with provable guarantees on topology.\n",
      "Unlabeled Sensing With Random Linear Measurements.\n",
      "Sampling Continuous-Time Sparse Signals: A Frequency-Domain Perspective.\n",
      "Efficient Multidimensional Diracs Estimation With Linear Sample Complexity.\n",
      "Sampling at Unknown Locations: Uniqueness and Reconstruction Under Constraints.\n",
      "Combining Range and Direction for Improved Localization.\n",
      "Structure from Sound with Incomplete Data.\n",
      "Bound and Conquer: Improving Triangulation by Enforcing Consistency.\n",
      "Super Resolution Phase Retrieval for Sparse Signals.\n",
      "Handheld Reflectance Acquisition of Paintings.\n",
      "Towards Generalized FRI Sampling With an Application to Source Resolution in Radioastronomy.\n",
      "Sampling and Exact Reconstruction of Pulses with Variable Width.\n",
      "Acoustic DoA Estimation by One Unsophisticated Sensor.\n",
      "FRIDA: FRI-based DOA estimation for arbitrary array layouts.\n",
      "Omnidirectional bats, point-to-plane distances, and the price of uniqueness.\n",
      "Shape from bandwidth: The 2-D orthogonal projection case.\n",
      "Unlabeled sensing: Reconstruction algorithm and theoretical guarantees.\n",
      "MOOC Adventures in Signal Processing: Bringing DSP to the era of massive open online courses.\n",
      "Where You Are Is Who You Are: User Identification by Matching Statistics.\n",
      "Shapes From Pixels.\n",
      "VITRAIL: Acquisition, Modeling, and Rendering of Stained Glass.\n",
      "Sampling and Reconstruction of Shapes With Algebraic Boundaries.\n",
      "EchoSLAM: Simultaneous localization and mapping with acoustic echoes.\n",
      "The recursive hessian sketch for adaptive filtering.\n",
      "Learning network structures from firing patterns.\n",
      "Accurate recovery of a specularity from a few samples of the reflectance function.\n",
      "Shape: Linear-time camera pose estimation with quadratic error-decay.\n",
      "From acoustic room reconstruction to slam.\n",
      "SHAPE: Linear-Time Camera Pose Estimation With Quadratic Error-Decay.\n",
      "On the Accuracy of Point Localisation in a Circular Camera-Array.\n",
      "Look, no Beacons! Optimal All-in-One EchoSLAM.\n",
      "Omnidirectional Bats, Point-to-Plane Distances, and the Price of Uniqueness.\n",
      "FRIDA: FRI-Based DOA Estimation for Arbitrary Array Layouts.\n",
      "The Beauty of the Commons: Optimal Load Sharing by Base Station Hopping in Wireless Sensor Networks.\n",
      "Raking the Cocktail Party.\n",
      "Euclidean Distance Matrices: Essential theory, algorithms, and applications.\n",
      "Near-Optimal Thermal Monitoring Framework for Many-Core Systems-on-Chip.\n",
      "A Fast Hadamard Transform for Signals With Sublinear Sparsity in the Transform Domain.\n",
      "Opportunistic Sampling for Joint Population Size and Density Estimation.\n",
      "DASS: Distributed Adaptive Sparse Sensing.\n",
      "Robust diffusion-based unsupervised object labelling in distributed camera networks.\n",
      "Unlabeled sensing: Solving a linear system with unordered measurements.\n",
      "Relax and unfold: Microphone localization with Euclidean distance matrices.\n",
      "Raking echoes in the time domain.\n",
      "A new robust and efficient estimator for ill-conditioned linear inverse problems with outliers.\n",
      "Enhancing local - Transmitting less - Improving global.\n",
      "Annihilation-driven localised image edge models.\n",
      "On the accuracy of point localisation in a circular camera-array.\n",
      "Virtually Moving Base Stations for Energy Efficiency in Wireless Sensor Networks.\n",
      "Euclidean Distance Matrices: A Short Walk Through Theory, Algorithms and Applications.\n",
      "Shapes From Pixels.\n",
      "Unlabeled Sensing with Random Linear Measurements.\n",
      "Where You Are Is Who You Are: User Identification by Matching Statistics.\n",
      "Sampling and Reconstruction of Shapes with Algebraic Boundaries.\n",
      "Near-Optimal Sensor Placement for Linear Inverse Problems.\n",
      "Computationally efficient background subtraction in the light field domain.\n",
      "Light field panorama by a plenoptic camera.\n",
      "LCAV-31: a dataset for light field object recognition.\n",
      "Scale-invariant representation of light field images for object recognition and tracking.\n",
      "Light transport matrix recovery for nearly planar objects.\n",
      "Near-optimal sensor placement for signals lying in a union of subspaces.\n",
      "How to localize ten microphones in one finger snap.\n",
      "Source localization and tracking in non-convex rooms.\n",
      "Single-channel indoor microphone localization.\n",
      "Detecting planar surface using a light-field camera with application to distinguishing real scenes from printed photos.\n",
      "Topology optimization for energy-efficient communications in consensus wireless networks.\n",
      "Privacy-preserving function computation by exploitation of friendships in social networks.\n",
      "Outlier removal for improved source estimation in atmospheric inverse problems.\n",
      "Near-optimal source placement for linear physical fields.\n",
      "DASS: Distributed Adaptive Sparse Sensing.\n",
      "The Beauty of the Commons: Optimal Load Sharing by Base Station Hopping in Wireless Sensor Networks.\n",
      "Raking the Cocktail Party.\n",
      "Sampling High-Dimensional Bandlimited Fields on Low-Dimensional Manifolds.\n",
      "Sampling and Reconstruction of Spatial Fields Using Mobile Sensors.\n",
      "Calibration Using Matrix Completion With Application to Ultrasound Tomography.\n",
      "Compressed sensing of streaming data.\n",
      "A fast Hadamard transform for signals with sub-linear sparsity.\n",
      "Oversampled noisy binary image sensor.\n",
      "The Fukushima inverse problem.\n",
      "Sequences with minimal time-frequency spreads.\n",
      "Sampling and reconstructing diffusion fields in presence of aliasing.\n",
      "Beyond Moore-Penrose: Sparse pseudoinverse.\n",
      "Teaching signal processing online: A report from the trenches.\n",
      "Multichannel sampling of low light level scenes with unknown shifts.\n",
      "Randomized recovery for boolean compressed sensing.\n",
      "Sequences with Minimal Time-Frequency Uncertainty.\n",
      "Near-Optimal Sensor Placement for Inverse Problems.\n",
      "Phase Retrieval for Sparse Signals: Uniqueness Conditions.\n",
      "A Fast Hadamard Transform for Signals with Sub-linear Sparsity.\n",
      "Recursive Compressed Sensing.\n",
      "On Minimal Trajectories for Mobile Sampling of Bandlimited Fields.\n",
      "Fast and Robust Parametric Estimation of Jointly Sparse Channels.\n",
      "Estimation of Sparse MIMO Channels with Common Support.\n",
      "On the Bandwidth of the Plenoptic Function.\n",
      "Bits From Photons: Oversampled Image Acquisition Using Binary Poisson Statistics.\n",
      "Distributed Successive Refinement of Multiview Images Using Broadcast Advantage.\n",
      "On Sampling and Coding for Distributed Acoustic Sensing.\n",
      "Rate Distortion Behavior of Sparse Sources.\n",
      "EigenMaps: algorithms for optimal thermal maps extraction and sensor placement on multicore processors.\n",
      "Multi-channel low-frequency room equalization using perceptually motivated constrained optimization.\n",
      "Super-resolution from unregistered aliased images with unknown scalings and shifts.\n",
      "Room helps: Acoustic localization with finite elements.\n",
      "Sampling and reconstruction of time-varying atmospheric emissions.\n",
      "Sampling and reconstructing spatial fields using mobile sensors.\n",
      "Event-driven video coding for outdoor wireless monitoring cameras.\n",
      "Howis the weather: Automatic inference from images.\n",
      "Share risk and energy: Sampling and communication strategies for multi-camera wireless monitoring networks.\n",
      "Sensorcam: an energy-efficient smart wireless camera for environmental monitoring.\n",
      "On sampling a high-dimensional bandlimited field on a union of shifted lattices.\n",
      "Fast and Robust Parametric Estimation of Jointly Sparse Channels.\n",
      "Locating the Source of Diffusion in Large-Scale Networks.\n",
      "Sampling and Reconstruction of Spatial Fields using Mobile Sensors.\n",
      "Introduction to the Issue on Gossiping Algorithms Design and Applications.\n",
      "The Distributed Multiple Voting Problem.\n",
      "Compressive Sampling of Multiple Sparse Signals Having Common Support Using Finite Rate of Innovation Principles.\n",
      "Group Testing With Probabilistic Tests: Theory, Design and Application.\n",
      "Valuable detours: least-cost anypath routing.\n",
      "Localization of diffusive sources using spatiotemporal measurements.\n",
      "Sampling trajectories for mobile sensing.\n",
      "Sensor networks for diffusion fields: Detection of sources in space and time.\n",
      "Can one hear the shape of a room: The 2-D polygonal case.\n",
      "Calibration in circular ultrasound tomography devices.\n",
      "Applications of short space-time fourier analysis in digital acoustics.\n",
      "Estimating Sparse MIMO channels having Common Support.\n",
      "Sampling and reconstructing diffusion fields with localized sources.\n",
      "Sparse spectral factorization: Unicity and reconstruction algorithms.\n",
      "Population size estimation using a few individuals as agents.\n",
      "Gigapixel Binary Sensing: Image Acquisition Using Oversampled One-Bit Poisson Statistics.\n",
      "Estimation of Sparse MIMO Channels with Common Support.\n",
      "Sampling based on timing: Time encoding machines on shift-invariant subspaces.\n",
      "Sampling High-Dimensional Bandlimited Fields on Low-Dimensional Manifolds.\n",
      "Demosaicking by Alternating Projections: Theory and Fast One-Step Implementation.\n",
      "On the information rates of the plenoptic function.\n",
      "Order-optimal consensus through randomized path averaging.\n",
      "SensorScope: Application-specific sensor network for environmental monitoring.\n",
      "Distributed sampling of signals linked by sparse filtering: theory and applications.\n",
      "Space-time-frequency processing of acoustic wave fields: theory, algorithms, and applications.\n",
      "Distributed successive approximation coding using broadcast advantage: The two-encoder case.\n",
      "An optimal algorithm for reconstructing images from binary measurements.\n",
      "On pixel detection threshold in the gigavision camera.\n",
      "Baffled circular loudspeaker array with broadband high directivity.\n",
      "Near-field adaptive beamforming and source localization in the spacetime frequency domain.\n",
      "Learning sparse systems at sub-Nyquist rates: A frequency-domain approach.\n",
      "Frame domain signal processing: Framework and applications.\n",
      "Ultrasound tomography with learned dictionaries.\n",
      "Weighted Gossip: Distributed Averaging using non-doubly stochastic matrices.\n",
      "Group Testing with Probabilistic Tests: Theory, Design and Application.\n",
      "Distributed Successive Approximation Coding using Broadcast Advantage: The Two-Encoder Case.\n",
      "Calibration for Ultrasound Breast Tomography Using Matrix Completion.\n",
      "Reproducible research in signal processing.\n",
      "From Lagrange to Shannon... and back: another look at sampling [DSP Education].\n",
      "Rate-Constrained Collaborative Noise Reduction for Wireless Hearing Aids.\n",
      "Compressed sensing with probabilistic measurements: A group testing solution.\n",
      "Iterative demosaicking accelerated: theory and fast noniterative implementations.\n",
      "Optimal color filter array design: quantitative conditions and an efficient search procedure.\n",
      "Potentials of Opportunistic Routing in Energy-Constrained Wireless Sensor Networks.\n",
      "The gigavision camera.\n",
      "Spatial super-resolution of a diffusion field by temporal oversampling in sensor networks.\n",
      "Distributed sensing of signals linked by sparse filtering.\n",
      "Interval consensus: From quantized gossip to voting.\n",
      "Image reconstruction in the gigavision camera.\n",
      "Designing color filter arrays for the joint capture of visible and near-infrared images.\n",
      "Support recovery in compressed sensing: An estimation theoretic approach.\n",
      "Coding of spatio-temporal audio spectra using tree-structured directional filterbanks.\n",
      "Compressed Sensing with Probabilistic Measurements: A Group Testing Solution.\n",
      "An Estimation Theoretic Approach for Sparsity Pattern Recovery in the Noisy Setting.\n",
      "Signal Processing for Communications.\n",
      "Compressive Sampling [From the Guest Editors].\n",
      "Sparse Sampling of Signal Innovations.\n",
      "Dimensionality Reduction for Distributed Estimation in the Infinite Dimensional Regime.\n",
      "Wave Field coding in the spacetime frequency domain.\n",
      "Distributed compressed sensing: Sparsity models and reconstruction algorithms using annihilating filter.\n",
      "Assessing the challenges of environmental signal processing through the sensorscope project.\n",
      "Subspace-based methods for image registration and super-resolution.\n",
      "Which Distributed Averaging Algorithm Should I Choose for my Sensor Network?\n",
      "SensorScope: Out-of-the-Box Environmental Monitoring.\n",
      "The hitchhiker's guide to successful wireless sensor network deployments.\n",
      "Order-Optimal Consensus through Randomized Path Averaging.\n",
      "Infrastructures for a Smart Earth - The Swiss NCCR-MICS initiative -.\n",
      "Space-Frequency Quantization for Image Compression With Directionlets.\n",
      "Sampling Moments and Reconstructing Signals of Finite Rate of Innovation: Shannon Meets Strang-Fix.\n",
      "Super-Resolution From Unregistered and Totally Aliased Signals Using Subspace Methods.\n",
      "A Stochastic Model for Video and its Information Rates.\n",
      "The effective rank: A measure of effective dimensionality.\n",
      "Efficient zerotree-based image compression with directionlets.\n",
      "Experiences with Reproducible Research in Various Facets of Signal Processing Research.\n",
      "Tomographic Approach for Parametric Estimation of Local Diffusive Sources and Application to Heat Diffusion.\n",
      "Space-Frequency Quantization using Directionlets.\n",
      "On the Information Rates of the Plenoptic Function.\n",
      "A Frequency Domain Approach to Registration of Aliased Images with Application to Super-resolution.\n",
      "Sensing reality and communicating bits: a dangerous liaison.\n",
      "Locally adaptive wavelet-based image interpolation.\n",
      "Directionlets: Anisotropic Multidirectional Representation With Separable Filtering.\n",
      "Sampling and exact reconstruction of bandlimited signals with additive shot noise.\n",
      "The Distributed Karhunen-Loève Transform.\n",
      "Network correlated data gathering with explicit communication: NP-completeness and algorithms.\n",
      "Locating mobile nodes with EASE: learning efficient routes from encounter histories alone.\n",
      "Lattice networks: capacity limits, optimal routing, and queueing behavior.\n",
      "Correction to \"Lattice networks: Capacity limits, optimal routing, and queueing behavior\".\n",
      "The Plenacoustic Function and Its Sampling.\n",
      "Spatio-temporal sampling and distributed compression of the sound field.\n",
      "Distributed Compression in Acoustic Sensor Networks using Oversampled A/D Conversion.\n",
      "Signal Reconstruction From Multiple Unregistered Sets Of Samples Using Groebner Bases.\n",
      "On the Multiterminal Rate-Distortion Function for Acoustic Sensing.\n",
      "On a Stochastic Version of the Plenacoustic Function.\n",
      "Acoustic Tomography Method for Measuring Temperature and Wind Velocity.\n",
      "Sensing and Communication With and Without Bits.\n",
      "Exact Local Reconstruction Algorithms for Signals with Finite Rate of Innovation.\n",
      "Low-Rate Reduced Complexity Image Compression using Directionlets.\n",
      "On the Information Rate of the Plenoptic Function.\n",
      "Rate-Constrained Beamforming for Collaborating Hearing Aids.\n",
      "Power, spatio-temporal bandwidth, and distortion in large sensor networks.\n",
      "Rate-distortion optimized tree-structured compression algorithms for piecewise polynomial images.\n",
      "The contourlet transform: an efficient directional multiresolution image representation.\n",
      "On the capacity of large Gaussian relay networks.\n",
      "Networked Slepian-Wolf: theory, algorithms, and scaling laws.\n",
      "Sampling and reconstruction of signals with finite rate of innovation in the presence of noise.\n",
      "Exact sampling results for signals with finite rate of innovation using Strang-Fix conditions and local kernels.\n",
      "Plenacoustic function on the circle with application to HRTF interpolation.\n",
      "On the interaction of data representation and routing in sensor networks.\n",
      "On the bandlimitedness of the plenoptic function.\n",
      "Approximation power of directionlets.\n",
      "Super-resolution from highly undersampled images.\n",
      "On the optimal density for real-time data gathering of spatio-temporal processes in sensor networks.\n",
      "Efficient routing with small buffers in dense networks.\n",
      "Packet combining in sensor networks.\n",
      "Exact sampling results for some classes of parametric nonbandlimited 2-D signals.\n",
      "Networked Slepian-Wolf: Theory and Algorithms.\n",
      "On compression using the distributed Karhunen-Loeve transform.\n",
      "Rate-distortion problem for physics based distributed sensing [temperature measurement].\n",
      "Wavelet and footprint sampling of signals with a finite rate of innovation.\n",
      "How to take advantage of aliasing in bandlimited signals.\n",
      "Geometrical image denoising using quadtree segmentation.\n",
      "On Network Correlated Data Gathering.\n",
      "Lattice sensor networks: capacity limits, optimal routing and robustness to failures.\n",
      "Power-bandwidth-distortion scaling laws for sensor networks.\n",
      "Rate-distortion problem for physics based distributed sensing.\n",
      "Channel estimation and synchronization with sub-Nyquist sampling and application to ultra-wideband systems.\n",
      "A lower bound to the scaling behavior of sensor networks.\n",
      "Scaling laws for correlated data gathering.\n",
      "Computational analysis of mesh simplification using global error.\n",
      "Low-sampling rate UWB channel characterization and synchronization.\n",
      "Outlier Modeling in Image Matching.\n",
      "Power efficient gathering of correlated data: optimization, NP-completeness and heuristics.\n",
      "The finite ridgelet transform for image representation.\n",
      "To code, or not to code: lossy source-channel communication revisited.\n",
      "Wavelet footprints: theory, algorithms, and applications.\n",
      "Framing pyramids.\n",
      "Space-Time Routing in Ad Hoc Networks.\n",
      "The Distributed, Partial, And Conditional Karhunen-Loève Transforms.\n",
      "High resolution acquisition methods for wideband communication systems.\n",
      "Orthogonal Hilbert transform filter banks and wavelets.\n",
      "The plenacoustic function, sampling and reconstruction.\n",
      "Distributed signal processing and communications: on the interaction of sources and channels.\n",
      "Sampling with finite rate of innovation: channel and timing estimation for UWB and GPS.\n",
      "Disparity dependent segmentation based stereo image coding.\n",
      "Sampling and interpolation of the plenoptic function.\n",
      "Discrete multidirectional wavelet bases.\n",
      "Locating Nodes with EASE: Mobility Diffusion of Last Encounters in Ad Hoc Networks.\n",
      "Source-Channel Communication in Sensor Networks.\n",
      "Age matters: efficient route discovery in mobile ad hoc networks using encounter ages.\n",
      "Discrete directional wavelet bases for image compression.\n",
      "Acoustic based rendering by interpolation of the plenacoustic function.\n",
      "Superresolution images reconstructed from aliased images.\n",
      "Mesh Optimization Using Global Error with Application to Geometry Simplification.\n",
      "Wavelet-based texture retrieval using generalized Gaussian density and Kullback-Leibler distance.\n",
      "Optimal filter banks for multiple description coding: Analysis and synthesis.\n",
      "Rotation invariant texture characterization and retrieval using steerable wavelet-domain hidden Markov models.\n",
      "Sampling signals with finite rate of innovation.\n",
      "The distributed Karhunen-Loeve transform.\n",
      "A sampling theorem for the Radon transform of finite complexity objects.\n",
      "Deconvolution with wavelet footprints for ill-posed inverse problems.\n",
      "Optimal Wavelet Packet Modulation under finite complexity constraint.\n",
      "Sampling of communication systems with bandwidth expansion.\n",
      "Contourlets: a directional multiresolution image representation.\n",
      "Directional wavelet transforms and frames.\n",
      "Improved quadtree algorithm based on joint coding for piecewise smooth image compression.\n",
      "Video Multicast in (Large) Local Area Networks.\n",
      "On the capacity of wireless networks: The relay case.\n",
      "Rate-distortion optimized tree based coding algorithms.\n",
      "Toward self-organized mobile ad hoc networks: the terminodes project.\n",
      "Transform coding: past, present, and future.\n",
      "Wavelets, approximation, and compression.\n",
      "On simple oversampled A/D conversion in L2(IR).\n",
      "High-order balanced multiwavelets: theory, factorization, and design.\n",
      "Soft ARQ for Layered Streaming Media.\n",
      "Computational analysis of 4-8 meshes with application to surface simplification using global error.\n",
      "Frame reconstruction of the Laplacian pyramid.\n",
      "A sampling theorem for periodic piecewise polynomial signals.\n",
      "On the compression of two-dimensional piecewise smooth functions.\n",
      "Joint mesh and texture compression using marginal analysis.\n",
      "Pyramidal directional filter banks and curvelets.\n",
      "Footprints and edgeprints for image denoising and compression.\n",
      "R/D optimal linear prediction.\n",
      "Spatially adaptive wavelet thresholding with context modeling for image denoising.\n",
      "Adaptive wavelet thresholding for image denoising and compression.\n",
      "Wavelet thresholding for multiple noisy image copies.\n",
      "Transform coding with backward adaptive updates.\n",
      "Reconstruction of irregularly sampled discrete-time bandlimited signals with unknown sampling locations.\n",
      "Analysis of Optimal Filter Banks for Multiple Description Coding.\n",
      "Rate Distortion Behavior of Threshold-Based Nonlinear Approximations.\n",
      "Wavelet Transform Footprints: Catching Singularities for Compression and Denoising.\n",
      "Orthonormal Finite Ridgelet Transform for Image Compression.\n",
      "Video Multicast over Fair Queueing Networks.\n",
      "Texture Similarity Measurement Using Kullback-Leibler Distance on Wavelet Subbands.\n",
      "Integrated Browsing and Searching of Large Image Collections.\n",
      "Matching pursuit and atomic signal models based on recursive filter banks.\n",
      "Rate-Distortion Analysis of Spike Processes.\n",
      "Quantized Frame Expansions as Source-Channel Codes for Erasure Channels.\n",
      "Wavelet Projections for Volume Rendering.\n",
      "Irregular sampling with unknown locations.\n",
      "Optimal bit allocation with side information.\n",
      "From Local to Global Parameter Estimation in Panoramic Photographic Reconstruction.\n",
      "Quadtrees for Embedded Surface Visualization: Constraints and Efficient Data Structures.\n",
      "R/D optimal data hiding.\n",
      "Invariant Image Retrieval Using Wavelet Maxima Moment.\n",
      "Set theoretic compression with an application to image coding.\n",
      "Quantized Overcomplete Expansions in IRN: Analysis, Synthesis, and Algorithms.\n",
      "Error-Rate Characteristics of Oversampled Analog-to-Digital Conversion.\n",
      "Data Compression and Harmonic Analysis.\n",
      "Balanced multiwavelets theory and design.\n",
      "Oversampled filter banks.\n",
      "Tight Weyl-Heisenberg frames in l2(Z).\n",
      "An FIR cascade structure for adaptive linear prediction.\n",
      "Discrete- and continuous-time local cosine bases with multiple overlapping.\n",
      "High order balanced multiwavelets.\n",
      "Interactive DSP education using Java.\n",
      "Perceptually hidden data transmission over audio signals.\n",
      "Significance Tree Image Coding using Balanced Multiwavelets.\n",
      "Spatially Adaptive Wavelet Thresholding with Context Modeling for Image Denoising.\n",
      "Multiple Copy Image Denoising via Wavelet Thresholding.\n",
      "Multiple Description Transform Coding of Images.\n",
      "Efficient Algorithms for Embedded Rendering of Terrain Models.\n",
      "A framework for interactive courses and virtual laboratories.\n",
      "Limited retransmission of real-time layered multimedia.\n",
      "Low-Complexity Video Coding for Receiver-Driven Layered Multicast.\n",
      "Gröbner Bases and Multidimensional FIR Multirate Systems.\n",
      "Adaptive scalar quantization without side information.\n",
      "Universal Transform Coding Based on Backward Adaptation.\n",
      "Optimal time segmentation for signal modeling and compression.\n",
      "Balanced multiwavelets.\n",
      "Computation-distortion characteristics of block transform coding.\n",
      "Spatial Adaptive Wavelet Thresholding for Image Denoising.\n",
      "Image Denoising via Lossy Compression and Wavelet Thresholding.\n",
      "Soft Caching: Image Caching in a Rate-Distortion Framework.\n",
      "Soft caching: web cache management techniques for images.\n",
      "Wavelets, subband coding, and best bases.\n",
      "Vector quantization of image subbands: a survey.\n",
      "Adaptive transforms for image coding using spatially varying wavelet packets.\n",
      "Image compression using binary space partitioning trees.\n",
      "Lower bound on the mean-squared error in oversampled quantization of periodic signals using vector quantization analysis.\n",
      "FIR oversampled filter banks and frames in ℓ2(Z).\n",
      "Oversampled FIR filter banks and frames in l2(Z).\n",
      "Consistency in quantized matching pursuit.\n",
      "A layered DCT coder for Internet video.\n",
      "Transform coding using adaptive bases and quantization.\n",
      "Receiver-Driven Layered Multicast.\n",
      "Wavelets and Subband Coding.\n",
      "Simple algorithms for BCH decoding.\n",
      "Discrete-time wavelet extrema representation: design and consistent reconstruction.\n",
      "Nonseparable two- and three-dimensional wavelets.\n",
      "Quantization of Overcomplete Expansions.\n",
      "Groebner basis techniques in multidimensional multirate systems.\n",
      "Resolution enhancement of images using wavelet transform extrema extrapolation.\n",
      "Lossy compression of individual signals based on string matching and one pass codebook design.\n",
      "Joint source/channel coding for multicast packet video.\n",
      "Layered transmission of signals over power-constrained wireless channels.\n",
      "Motion compensation of motion vectors.\n",
      "Basefield transforms with the convolution property.\n",
      "Optimal trellis-based buffered compression and fast approximations.\n",
      "Bit allocation for dependent quantization with applications to multiresolution and MPEG video coders.\n",
      "Rate-distortion optimal fast thresholding with complete JPEG/MPEG decoder compatibility.\n",
      "Reduction of the MSE in R-times oversampled A/D conversion O(1/R) to O(1/R2).\n",
      "Deterministic analysis of oversampled A/D conversion and decoding improvement based on consistent estimates.\n",
      "Orthogonal time-varying filter banks and wavelet packets.\n",
      "Syntax-Constrained Encoder Optimization Using Adaptive Quantization Thresholding for JPEG/MPEG Coders.\n",
      "Wavelet extrema and zero-crossings representations: properties and consistent reconstruction.\n",
      "A study of convex coders with an application to image coding.\n",
      "Set Theoretic Compression with an Application to Image Coding.\n",
      "Matching Pursuit for Compression and Application to Motion Compensated Video Coding.\n",
      "Adaptive Quantization without Side Information.\n",
      "A Framework for Optimization of a Multiresolution Remote Image Retrieval System.\n",
      "Iterative Toeplitz solvers with local quadratic convergence.\n",
      "Multiresolution Broadcast for Digital HDTV Using Joint Source/Channel Coding.\n",
      "FCO sampling of digital video using perfect reconstruction filter banks.\n",
      "Best wavelet packet bases in a rate-distortion sense.\n",
      "Computing m DFT's over GF(q) with one DFT over GF(qm).\n",
      "Hartley transforms over finite fields.\n",
      "Joint source/channel coding of statistically multiplexed real-time services on packet networks.\n",
      "Perfect reconstruction filter banks with rational sampling factors.\n",
      "Wavelets and recursive filter banks.\n",
      "Tilings of the time-frequency plane: construction of arbitrary orthogonal bases and fast tiling algorithms.\n",
      "Time-varying orthonormal tilings of the time-frequency plane.\n",
      "Bit allocation for dependent quantization with applications to MPEG video coders.\n",
      "A deterministic analysis of oversampled A/D conversion and Sigma Delta modulation.\n",
      "New results on multidimensional filter banks and wavelets.\n",
      "Lower bounds on the MSE in Nth order mulit-bit multi-loop sigma delta modulation with DC inputs.\n",
      "Orthogonal time-varying filter banks and wavelets.\n",
      "Multiresolution coding techniques for digital television: A review.\n",
      "All-digital high definition television: Dream or reality?\n",
      "Combined multiresolution source coding and modulation for digital broadcast of HDTV.\n",
      "Comments on 'Interpolative multiresolution coding of advanced television with compatible subchannels' [and reply and additional comments].\n",
      "Nonseparable multidimensional perfect reconstruction filter banks and wavelet bases for Rn.\n",
      "Adaptive filtering in subbands with critical sampling: analysis, experiments, and application to acoustic echo cancellation.\n",
      "Wavelets and filter banks: theory and design.\n",
      "Optimal MSE signal reconstruction in oversampled A/D conversion using convexity.\n",
      "Design of multidimensional non-separable regular filter banks and wavelets.\n",
      "Wavelets generated by IIR filter banks.\n",
      "Binary space partitioning tree representation of images.\n",
      "Preface.\n",
      "Preface.\n",
      "Wavelets and signal processing.\n",
      "Interpolative multiresolution coding of advance television with compatible subchannels.\n",
      "The commutativity of up/downsampling in two dimensions.\n",
      "Perfect reconstruction filter banks with rational sampling rate changes.\n",
      "Linear phase wavelets: theory and design.\n",
      "A multiresolution approach to binary tree representations of images.\n",
      "Perfect reconstruction filter banks for HDTV representation and coding.\n",
      "Theory of two-dimensional multirate filter banks.\n",
      "Wavelets and filter banks: relationships and new results.\n",
      "Image representation using binary space partitioning trees.\n",
      "Packet video and its integration into the network architecture.\n",
      "Split-radix algorithms for length-pm DFT's.\n",
      "Perfect reconstruction FIR filter banks: some properties and factorizations.\n",
      "Trade-off's in the computation of mono- and multi-dimensional DCT's.\n",
      "Image coding with windowed modulated filter banks.\n",
      "Running FIR and IIR filtering using multirate filter banks.\n",
      "Three dimensional sub-band coding of video.\n",
      "Split-radix algorithms for length-pm DFTs.\n",
      "Adaptive filtering in sub-bands.\n",
      "A theory of multirate filter banks.\n",
      "Improved Fourier and Hartley transform algorithms: Application to cyclic convolution of real data.\n",
      "Computer aided implementation of complex algorithms on DSP's using automatic scaling.\n",
      "A Discrete Fourier-Cosine Transform Chip.\n",
      "Cyclic convolution of real sequences: Hartley versus Fourier and new schemes.\n",
      "Perfect transmultiplexers.\n",
      "Fast 2-D discrete cosine transform.\n",
      "Computationally efficient QMF filter banks.\n"
     ]
    }
   ],
   "source": [
    "for p in publications_wrappers:\n",
    "    print(p.find('span', class_='title').text)"
   ]
  },
  {
   "cell_type": "code",
   "execution_count": 19,
   "metadata": {
    "jupyter": {
     "outputs_hidden": true
    }
   },
   "outputs": [],
   "source": [
    "import pandas as pd\n",
    "%matplotlib inline"
   ]
  },
  {
   "cell_type": "code",
   "execution_count": 20,
   "metadata": {},
   "outputs": [
    {
     "data": {
      "text/html": [
       "<div>\n",
       "<style scoped>\n",
       "    .dataframe tbody tr th:only-of-type {\n",
       "        vertical-align: middle;\n",
       "    }\n",
       "\n",
       "    .dataframe tbody tr th {\n",
       "        vertical-align: top;\n",
       "    }\n",
       "\n",
       "    .dataframe thead th {\n",
       "        text-align: right;\n",
       "    }\n",
       "</style>\n",
       "<table border=\"1\" class=\"dataframe\">\n",
       "  <thead>\n",
       "    <tr style=\"text-align: right;\">\n",
       "      <th></th>\n",
       "      <th>title</th>\n",
       "      <th>authors</th>\n",
       "      <th>year</th>\n",
       "    </tr>\n",
       "  </thead>\n",
       "  <tbody>\n",
       "    <tr>\n",
       "      <th>0</th>\n",
       "      <td>LenslessPiCam: A Hardware and Software Platfor...</td>\n",
       "      <td>[Eric Bezzam, Sepand Kashani, Martin Vetterli,...</td>\n",
       "      <td>2023</td>\n",
       "    </tr>\n",
       "    <tr>\n",
       "      <th>1</th>\n",
       "      <td>Blind as a Bat: Audible Echolocation on Small ...</td>\n",
       "      <td>[Frederike Dümbgen, Adrien Hoffet, Mihailo Kol...</td>\n",
       "      <td>2023</td>\n",
       "    </tr>\n",
       "    <tr>\n",
       "      <th>2</th>\n",
       "      <td>LenslessPiCam: A Hardware and Software Platfor...</td>\n",
       "      <td>[Eric Bezzam, Sepand Kashani, Martin Vetterli,...</td>\n",
       "      <td>2023</td>\n",
       "    </tr>\n",
       "    <tr>\n",
       "      <th>3</th>\n",
       "      <td>Blind as a bat: audible echolocation on small ...</td>\n",
       "      <td>[Frederike Dümbgen, Adrien Hoffet, Mihailo Kol...</td>\n",
       "      <td>2023</td>\n",
       "    </tr>\n",
       "    <tr>\n",
       "      <th>4</th>\n",
       "      <td>pyFFS: A Python Library for Fast Fourier Serie...</td>\n",
       "      <td>[Eric Bezzam, Sepand Kashani, Paul Hurley, Mar...</td>\n",
       "      <td>2022</td>\n",
       "    </tr>\n",
       "  </tbody>\n",
       "</table>\n",
       "</div>"
      ],
      "text/plain": [
       "                                               title  \\\n",
       "0  LenslessPiCam: A Hardware and Software Platfor...   \n",
       "1  Blind as a Bat: Audible Echolocation on Small ...   \n",
       "2  LenslessPiCam: A Hardware and Software Platfor...   \n",
       "3  Blind as a bat: audible echolocation on small ...   \n",
       "4  pyFFS: A Python Library for Fast Fourier Serie...   \n",
       "\n",
       "                                             authors  year  \n",
       "0  [Eric Bezzam, Sepand Kashani, Martin Vetterli,...  2023  \n",
       "1  [Frederike Dümbgen, Adrien Hoffet, Mihailo Kol...  2023  \n",
       "2  [Eric Bezzam, Sepand Kashani, Martin Vetterli,...  2023  \n",
       "3  [Frederike Dümbgen, Adrien Hoffet, Mihailo Kol...  2023  \n",
       "4  [Eric Bezzam, Sepand Kashani, Paul Hurley, Mar...  2022  "
      ]
     },
     "execution_count": 20,
     "metadata": {},
     "output_type": "execute_result"
    }
   ],
   "source": [
    "publications_list = []\n",
    "for p in publications_wrappers:\n",
    "    title = p.find('span', class_='title').text  # get the title\n",
    "    authos_list = p.find_all('span', {'itemprop': 'author'})  # get the authors list\n",
    "    authors = [author.text for author in authos_list]  \n",
    "    year = p.find('span', {'itemprop': 'datePublished'}).text\n",
    "    publications_list.append({'title': title, \n",
    "                         'authors': authors, \n",
    "                         'year': int(year)})  # here you should validate the data\n",
    "\n",
    "publications = pd.DataFrame.from_dict(publications_list)\n",
    "publications.head()"
   ]
  },
  {
   "cell_type": "code",
   "execution_count": 21,
   "metadata": {},
   "outputs": [
    {
     "data": {
      "text/plain": [
       "<Axes: title={'center': 'Data from: http://dblp.uni-trier.de/pers/hd/v/Vetterli:Martin'}, xlabel='year'>"
      ]
     },
     "execution_count": 21,
     "metadata": {},
     "output_type": "execute_result"
    },
    {
     "data": {
      "image/png": "[encoded data removed]",
      "text/plain": [
       "<Figure size 1000x600 with 1 Axes>"
      ]
     },
     "metadata": {},
     "output_type": "display_data"
    }
   ],
   "source": [
    "publications.groupby('year')\\\n",
    "    .count()\\\n",
    "    .rename(columns = {'title':'count'})\\\n",
    "    .plot(y='count', kind='bar', grid=True, figsize=(10, 6), title='Data from: ' + URL)"
   ]
  },
  {
   "cell_type": "code",
   "execution_count": null,
   "metadata": {},
   "outputs": [],
   "source": []
  }
 ],
 "metadata": {
  "anaconda-cloud": {},
  "kernelspec": {
   "display_name": "Python 3 (ipykernel)",
   "language": "python",
   "name": "python3"
  },
  "language_info": {
   "codemirror_mode": {
    "name": "ipython",
    "version": 3
   },
   "file_extension": ".py",
   "mimetype": "text/x-python",
   "name": "python",
   "nbconvert_exporter": "python",
   "pygments_lexer": "ipython3",
   "version": "3.11.5"
  },
  "varInspector": {
   "cols": {
    "lenName": 16,
    "lenType": 16,
    "lenVar": 40
   },
   "kernels_config": {
    "python": {
     "delete_cmd_postfix": "",
     "delete_cmd_prefix": "del ",
     "library": "var_list.py",
     "varRefreshCmd": "print(var_dic_list())"
    },
    "r": {
     "delete_cmd_postfix": ") ",
     "delete_cmd_prefix": "rm(",
     "library": "var_list.r",
     "varRefreshCmd": "cat(var_dic_list()) "
    }
   },
   "types_to_exclude": [
    "module",
    "function",
    "builtin_function_or_method",
    "instance",
    "_Feature"
   ],
   "window_display": false
  }
 },
 "nbformat": 4,
 "nbformat_minor": 4
}
